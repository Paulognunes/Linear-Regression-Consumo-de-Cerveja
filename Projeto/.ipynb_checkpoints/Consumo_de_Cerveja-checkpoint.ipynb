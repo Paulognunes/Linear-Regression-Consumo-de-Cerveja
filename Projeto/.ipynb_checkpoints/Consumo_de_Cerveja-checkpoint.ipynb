{
 "cells": [
  {
   "cell_type": "markdown",
   "id": "ac207e07",
   "metadata": {},
   "source": [
    "# Consumo de Cerveja - São Paulo"
   ]
  },
  {
   "cell_type": "code",
   "execution_count": 2,
   "id": "13e13bfb",
   "metadata": {},
   "outputs": [],
   "source": [
    "# Imports\n",
    "import numpy as np\n",
    "import pandas as pd\n",
    "import matplotlib.pyplot as plt\n",
    "import seaborn as sns"
   ]
  },
  {
   "cell_type": "markdown",
   "id": "408560a4",
   "metadata": {},
   "source": [
    "## Dataset"
   ]
  },
  {
   "cell_type": "markdown",
   "id": "43b0059e",
   "metadata": {},
   "source": [
    "### Descrição\n",
    "\n",
    "A cerveja é uma das bebidas mais democráticas e consumidas do mundo. Ela é perfeita para quase todas as situações, desde happy hour até grandes festas de casamento. Se você só pensar nisso, você já sente vontade de tomar uma cerveja, você não está sozinho.\n",
    "\n",
    "Pensando nisso, o objetivo deste projeto é criar um modelo baseado em <b>Machine Learning</b> capaz de estimar o consumo de cerveja de acordo com algumas condições. A técnica escolhida para elaboração do modelo foi a de <b>Regressão Linear</b>.\n",
    "\n",
    "### Fonte\n",
    "\n",
    "O dataset utilidado foi retirado da plataforma Kaggle e pode ser baixado [aqui](https://www.kaggle.com/dongeorge/beer-consumption-sao-paulo).\n",
    "\n",
    "### Dicionário do Dataset\n",
    "\n",
    "+ <b> data </b>: Data da instância (AAAA-MM-DD)\n",
    "+ <b> temp_media </b> : Temperatura Média (°C)\n",
    "+ <b> temp_min </b> : Temperatura Minima do Dia (°C)\n",
    "+ <b> temp_max </b> : Temperatura Máxima do Dia (°C)\n",
    "+ <b> chuva </b> : Precipitação (mm)\n",
    "+ <b> fds </b> : Se é ou não Fim de Semana (1 = Sim, 0 = Não)\n",
    "+ <b> consumo </b> : Consumo de Cerveja (Litros)"
   ]
  },
  {
   "cell_type": "code",
   "execution_count": null,
   "id": "06784a74",
   "metadata": {},
   "outputs": [],
   "source": [
    "# Leitura dos dados\n",
    "dados = pd.read_csv(\"../Dados/Consumo_C\")"
   ]
  }
 ],
 "metadata": {
  "kernelspec": {
   "display_name": "Python 3 (ipykernel)",
   "language": "python",
   "name": "python3"
  },
  "language_info": {
   "codemirror_mode": {
    "name": "ipython",
    "version": 3
   },
   "file_extension": ".py",
   "mimetype": "text/x-python",
   "name": "python",
   "nbconvert_exporter": "python",
   "pygments_lexer": "ipython3",
   "version": "3.9.7"
  }
 },
 "nbformat": 4,
 "nbformat_minor": 5
}
